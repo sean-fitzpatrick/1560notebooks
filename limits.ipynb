{
 "cells": [
  {
   "cell_type": "markdown",
   "metadata": {
    "hidden": false,
    "slideshow": {
     "slide_type": "skip"
    }
   },
   "source": [
    "To run this notebook, choose \"Restart & Run All\" from the Kernel menu."
   ]
  },
  {
   "cell_type": "code",
   "execution_count": 1,
   "metadata": {
    "hidden": false,
    "slideshow": {
     "slide_type": "skip"
    }
   },
   "outputs": [
    {
     "data": {
      "text/html": [
       "\n",
       "<script src=\"https://cdn.geogebra.org.apps/deployggb.js\"></script>\n"
      ],
      "text/plain": [
       "<IPython.core.display.HTML object>"
      ]
     },
     "metadata": {},
     "output_type": "display_data"
    }
   ],
   "source": [
    "%%html\n",
    "\n",
    "<script src=\"https://cdn.geogebra.org.apps/deployggb.js\"></script>"
   ]
  },
  {
   "cell_type": "code",
   "execution_count": 2,
   "metadata": {
    "hidden": false,
    "slideshow": {
     "slide_type": "skip"
    }
   },
   "outputs": [
    {
     "data": {
      "text/html": [
       "\n",
       "<script>\n",
       "  function code_toggle() {\n",
       "    if (code_shown){\n",
       "      $('div.input').hide('500');\n",
       "      $('#toggleButton').val('Show Code')\n",
       "    } else {\n",
       "      $('div.input').show('500');\n",
       "      $('#toggleButton').val('Hide Code')\n",
       "    }\n",
       "    code_shown = !code_shown\n",
       "  }\n",
       "  \n",
       "  $( document ).ready(function(){\n",
       "    code_shown=false;\n",
       "    $('div.input').hide()\n",
       "  });\n",
       "</script>\n",
       "<form action=\"javascript:code_toggle()\"><input type=\"submit\" id=\"toggleButton\" value=\"Show Code\"></form>\n"
      ],
      "text/plain": [
       "<IPython.core.display.HTML object>"
      ]
     },
     "metadata": {},
     "output_type": "display_data"
    }
   ],
   "source": [
    "%%html\n",
    "\n",
    "<script>\n",
    "  function code_toggle() {\n",
    "    if (code_shown){\n",
    "      $('div.input').hide('500');\n",
    "      $('#toggleButton').val('Show Code')\n",
    "    } else {\n",
    "      $('div.input').show('500');\n",
    "      $('#toggleButton').val('Hide Code')\n",
    "    }\n",
    "    code_shown = !code_shown\n",
    "  }\n",
    "  \n",
    "  $( document ).ready(function(){\n",
    "    code_shown=false;\n",
    "    $('div.input').hide()\n",
    "  });\n",
    "</script>\n",
    "<form action=\"javascript:code_toggle()\"><input type=\"submit\" id=\"toggleButton\" value=\"Show Code\"></form>"
   ]
  },
  {
   "cell_type": "code",
   "execution_count": 3,
   "metadata": {
    "hidden": false,
    "slideshow": {
     "slide_type": "skip"
    }
   },
   "outputs": [],
   "source": [
    "from sympy import *\n",
    "x, y, z = symbols('x y z')\n",
    "init_printing(use_unicode=True)"
   ]
  },
  {
   "cell_type": "code",
   "execution_count": 4,
   "metadata": {
    "hidden": false
   },
   "outputs": [],
   "source": [
    "from IPython.core.display import display, HTML"
   ]
  },
  {
   "cell_type": "markdown",
   "metadata": {
    "hidden": false,
    "slideshow": {
     "slide_type": "slide"
    }
   },
   "source": [
    "# Let's look at limits!\n",
    "\n",
    "## Math 1560 Calculus I\n",
    "\n",
    "### Sean Fitzpatrick\n",
    "### University of Lethbridge, Fall 2022"
   ]
  },
  {
   "cell_type": "markdown",
   "metadata": {
    "hidden": false,
    "slideshow": {
     "slide_type": "slide"
    }
   },
   "source": [
    "## The concept of a limit\n",
    "\n",
    "The **limit** concept is a difficult one, but it's essential to understanding calculus.\n",
    "When we write \n",
    "$$\\lim_{x\\to c}f(x) = L,$$\n",
    "we are saying that the values of $f(x)$ can be made as close to $L$ as we want,\n",
    "as long as we use an $x$ value that's close enough to $c$.\n",
    "\n",
    "Crucially, we do not allow $x$ to equal $c$ in the definition. It can get close, but never equal."
   ]
  },
  {
   "cell_type": "markdown",
   "metadata": {
    "hidden": false,
    "slideshow": {
     "slide_type": "slide"
    }
   },
   "source": [
    "Here's the graph of a function. Notice how the $y$ values change as we drag $x$. At what points does it appear as though our function does not have a limit?"
   ]
  },
  {
   "cell_type": "code",
   "execution_count": 5,
   "metadata": {
    "hidden": false,
    "slideshow": {
     "slide_type": "fragment"
    }
   },
   "outputs": [
    {
     "data": {
      "text/html": [
       "\n",
       "<div id=\"ggb1\"></div>\n",
       "<script> \n",
       "    require.config({paths: {gb: \"https://cdn.geogebra.org/apps/deployggb\"}});\n",
       "    require([\"gb\"], function(gb) {\n",
       "      var ggbApp = new GGBApplet({\n",
       "          \"height\": 400,\n",
       "          \"showToolBar\": false,\n",
       "          \"showMenuBar\": false,\n",
       "          \"showAlgebraInput\": false,\n",
       "          \"showResetIcon\": true,\n",
       "          \"enableLabelDrags\": false,\n",
       "          \"enableRightClick\": false,\n",
       "          \"enableShiftDragZoom\": true,\n",
       "          \"useBrowserForJS\": false,\n",
       "          \"material_id\": \"pahq4ff7\"\n",
       "      }, 'ggb1');\n",
       "\n",
       "  ggbApp.inject();\n",
       "    });\n",
       "</script>\n"
      ],
      "text/plain": [
       "<IPython.core.display.HTML object>"
      ]
     },
     "metadata": {},
     "output_type": "display_data"
    }
   ],
   "source": [
    "html_text = '''\n",
    "<div id=\"ggb1\"></div>\n",
    "<script> \n",
    "    require.config({paths: {gb: \"https://cdn.geogebra.org/apps/deployggb\"}});\n",
    "    require([\"gb\"], function(gb) {\n",
    "      var ggbApp = new GGBApplet({\n",
    "          \"height\": 400,\n",
    "          \"showToolBar\": false,\n",
    "          \"showMenuBar\": false,\n",
    "          \"showAlgebraInput\": false,\n",
    "          \"showResetIcon\": true,\n",
    "          \"enableLabelDrags\": false,\n",
    "          \"enableRightClick\": false,\n",
    "          \"enableShiftDragZoom\": true,\n",
    "          \"useBrowserForJS\": false,\n",
    "          \"material_id\": \"pahq4ff7\"\n",
    "      }, 'ggb1');\n",
    "\n",
    "  ggbApp.inject();\n",
    "    });\n",
    "</script>\n",
    "'''\n",
    "\n",
    "display(HTML(html_text))"
   ]
  },
  {
   "cell_type": "markdown",
   "metadata": {
    "hidden": false,
    "slideshow": {
     "slide_type": "slide"
    }
   },
   "source": [
    "## An algebraic limit\n",
    "\n",
    "\n",
    "Consider the following example:\n",
    "\n",
    "$$\\lim_{x\\to 2}\\frac{x^2-5x+6}{x^2-4} = -\\frac14$$\n",
    "\n",
    "Why is this true?"
   ]
  },
  {
   "cell_type": "markdown",
   "metadata": {
    "hidden": false,
    "slideshow": {
     "slide_type": "slide"
    }
   },
   "source": [
    "First, look at the graph:"
   ]
  },
  {
   "cell_type": "code",
   "execution_count": 6,
   "metadata": {
    "hidden": false,
    "slideshow": {
     "slide_type": "fragment"
    }
   },
   "outputs": [
    {
     "data": {
      "text/html": [
       "\n",
       "<div id=\"ggb2\"></div>\n",
       "<script> \n",
       "    require.config({paths: {gb: \"https://cdn.geogebra.org/apps/deployggb\"}});\n",
       "    require([\"gb\"], function(gb) {\n",
       "      var ggbApp = new GGBApplet({\n",
       "          \"height\": 400,\n",
       "          \"showToolBar\": false,\n",
       "          \"showMenuBar\": false,\n",
       "          \"showAlgebraInput\": false,\n",
       "          \"showResetIcon\": true,\n",
       "          \"enableLabelDrags\": false,\n",
       "          \"enableRightClick\": false,\n",
       "          \"enableShiftDragZoom\": true,\n",
       "          \"useBrowserForJS\": false,\n",
       "          \"material_id\": \"rnajzfgq\"\n",
       "      }, 'ggb2');\n",
       "\n",
       "  ggbApp.inject();\n",
       "    });\n",
       "</script>\n"
      ],
      "text/plain": [
       "<IPython.core.display.HTML object>"
      ]
     },
     "metadata": {},
     "output_type": "display_data"
    }
   ],
   "source": [
    "html_text = '''\n",
    "<div id=\"ggb2\"></div>\n",
    "<script> \n",
    "    require.config({paths: {gb: \"https://cdn.geogebra.org/apps/deployggb\"}});\n",
    "    require([\"gb\"], function(gb) {\n",
    "      var ggbApp = new GGBApplet({\n",
    "          \"height\": 400,\n",
    "          \"showToolBar\": false,\n",
    "          \"showMenuBar\": false,\n",
    "          \"showAlgebraInput\": false,\n",
    "          \"showResetIcon\": true,\n",
    "          \"enableLabelDrags\": false,\n",
    "          \"enableRightClick\": false,\n",
    "          \"enableShiftDragZoom\": true,\n",
    "          \"useBrowserForJS\": false,\n",
    "          \"material_id\": \"rnajzfgq\"\n",
    "      }, 'ggb2');\n",
    "\n",
    "  ggbApp.inject();\n",
    "    });\n",
    "</script>\n",
    "'''\n",
    "\n",
    "display(HTML(html_text))"
   ]
  },
  {
   "cell_type": "markdown",
   "metadata": {
    "hidden": false,
    "slideshow": {
     "slide_type": "slide"
    }
   },
   "source": [
    "We can also program this function into the computer, and analyze it.\n",
    "\n",
    "Below, we're using the *Sympy* library of the Python programming language.\n",
    "\n",
    "It lets us have nicer looking output than pure Python."
   ]
  },
  {
   "cell_type": "code",
   "execution_count": 7,
   "metadata": {
    "hidden": false,
    "slideshow": {
     "slide_type": "fragment"
    }
   },
   "outputs": [],
   "source": [
    "def f(x):\n",
    "    return (x**2-5*x+6)/(x**2-4)"
   ]
  },
  {
   "cell_type": "markdown",
   "metadata": {
    "hidden": false,
    "slideshow": {
     "slide_type": "fragment"
    }
   },
   "source": [
    "Let's make sure the computer understood us correctly."
   ]
  },
  {
   "cell_type": "code",
   "execution_count": 8,
   "metadata": {
    "hidden": false,
    "slideshow": {
     "slide_type": "fragment"
    }
   },
   "outputs": [
    {
     "data": {
      "image/png": "[encoded data removed]",
      "text/latex": [
       "$\\displaystyle \\frac{x^{2} - 5 x + 6}{x^{2} - 4}$"
      ],
      "text/plain": [
       " 2          \n",
       "x  - 5⋅x + 6\n",
       "────────────\n",
       "    2       \n",
       "   x  - 4   "
      ]
     },
     "execution_count": 8,
     "metadata": {},
     "output_type": "execute_result"
    }
   ],
   "source": [
    "f(x)"
   ]
  },
  {
   "cell_type": "markdown",
   "metadata": {
    "hidden": false,
    "slideshow": {
     "slide_type": "slide"
    }
   },
   "source": [
    "Fortunately for us, Sympy knows how to compute limits of functions. The syntax is `limit(function, variable, value)`.\n",
    "\n",
    "Let's give it a try."
   ]
  },
  {
   "cell_type": "code",
   "execution_count": 9,
   "metadata": {
    "hidden": false,
    "slideshow": {
     "slide_type": "fragment"
    }
   },
   "outputs": [
    {
     "data": {
      "image/png": "[encoded data removed]",
      "text/latex": [
       "$\\displaystyle - \\frac{1}{4}$"
      ],
      "text/plain": [
       "-1/4"
      ]
     },
     "execution_count": 9,
     "metadata": {},
     "output_type": "execute_result"
    }
   ],
   "source": [
    "limit(f(x),x,2)"
   ]
  },
  {
   "cell_type": "markdown",
   "metadata": {
    "hidden": false,
    "slideshow": {
     "slide_type": "slide"
    }
   },
   "source": [
    "All signs seem to point to a limit of $-\\frac14$. How do we see this for ourselves?\n",
    "\n",
    "Note that a limit is necessary here: $f(2)$ is undefined.\n",
    "\n",
    "If we try to put $x=2$, we get the nonsensical result of $\\frac00$.\n",
    "\n",
    "But this is a *rational function*: the top and bottom are both *polynomials*.\n",
    "\n",
    "For any polynomial $p(x)$, if $p(a)=0$, then $(x-a)$ is a factor!\n",
    "\n",
    "So we should be able to factor out $(x-2)$ from both top and bottom:\n",
    "\n",
    "$$f(x) = \\frac{x^2-5x+6}{x^2-4} = \\frac{(x-2)(x-3)}{(x-2)(x+2)}$$"
   ]
  },
  {
   "cell_type": "markdown",
   "metadata": {
    "hidden": false,
    "slideshow": {
     "slide_type": "subslide"
    }
   },
   "source": [
    "Next, you want to cancel the $x-2$ factors and proceed.\n",
    "\n",
    "But it would be **false** to write $f(x)=\\dfrac{x-3}{x+2}$, because we lose the exception $x\\neq 2$.\n",
    "\n",
    "Here's where limits come to the rescue!\n",
    "\n",
    "Remember: in $\\lim\\limits_{x\\to 2}f(x)$, we consider values of $x$ close to 2, *but not equal to 2*. \n",
    "\n",
    "Since we don't let $x=2$, we're allowed to cancel, and after that, the properties of limits take over:"
   ]
  },
  {
   "cell_type": "markdown",
   "metadata": {
    "hidden": false,
    "slideshow": {
     "slide_type": "subslide"
    }
   },
   "source": [
    "$$\\begin{aligned}\\lim_{x\\to 2}f(x) &= \\lim_{x\\to 2}\\frac{x^2-5x+6}{x^2-4}\\\\\n",
    "&= =\\lim_{x\\to 2}\\frac{(x-2)(x-3)}{(x-2)(x+2)}=\\lim_{x\\to 2}\\frac{x-3}{x+2}\\\\\n",
    "&= \\frac{\\lim_{x\\to 2}(x-3)}{\\lim_{x\\to 2}(x+2)}\\\\\n",
    "&= \\frac{2-3}{2+2} = -\\frac14,\\end{aligned}$$\n",
    "\n",
    "just as we expected."
   ]
  },
  {
   "cell_type": "markdown",
   "metadata": {
    "hidden": false,
    "slideshow": {
     "slide_type": "slide"
    }
   },
   "source": [
    "## A trigonometric limit\n",
    "\n",
    "Next, we're going to explore the limit\n",
    "\n",
    "$$\\lim_{x\\to 0}\\dfrac{\\sin(x)}{x}.$$\n",
    "\n",
    "Like the last example, trying to evaluate directly results in $\\frac00$.\n",
    "\n",
    "Unlike the last example, we cannot simply factor an $x$ out from the top to cancel it.\n",
    "\n",
    "To get an idea of what we're dealing with, we'll first explore numerically and graphically."
   ]
  },
  {
   "cell_type": "markdown",
   "metadata": {
    "hidden": false,
    "slideshow": {
     "slide_type": "slide"
    }
   },
   "source": [
    "Let's start by defining our function."
   ]
  },
  {
   "cell_type": "code",
   "execution_count": 10,
   "metadata": {
    "hidden": false,
    "slideshow": {
     "slide_type": "fragment"
    }
   },
   "outputs": [],
   "source": [
    "def g(x):\n",
    "    return sin(x)/x"
   ]
  },
  {
   "cell_type": "markdown",
   "metadata": {
    "hidden": false,
    "slideshow": {
     "slide_type": "fragment"
    }
   },
   "source": [
    "Let's confirm that this is what we want by asking Jupyter to display the function."
   ]
  },
  {
   "cell_type": "code",
   "execution_count": 11,
   "metadata": {
    "hidden": false,
    "scrolled": true,
    "slideshow": {
     "slide_type": "fragment"
    }
   },
   "outputs": [
    {
     "data": {
      "image/png": "[encoded data removed]",
      "text/latex": [
       "$\\displaystyle \\frac{\\sin{\\left(x \\right)}}{x}$"
      ],
      "text/plain": [
       "sin(x)\n",
       "──────\n",
       "  x   "
      ]
     },
     "execution_count": 11,
     "metadata": {},
     "output_type": "execute_result"
    }
   ],
   "source": [
    "g(x)"
   ]
  },
  {
   "cell_type": "markdown",
   "metadata": {
    "hidden": false,
    "slideshow": {
     "slide_type": "slide"
    }
   },
   "source": [
    "Next, let's enter some test values for our function near $x=0$, and add some code to produce the corresponding $y$ values."
   ]
  },
  {
   "cell_type": "code",
   "execution_count": 12,
   "metadata": {
    "hidden": false,
    "scrolled": true,
    "slideshow": {
     "slide_type": "fragment"
    }
   },
   "outputs": [
    {
     "name": "stdout",
     "output_type": "stream",
     "text": [
      "x        | f(x)\n",
      "----------------------------\n",
      "0.5      | 0.958851077208406\n",
      "-0.5     | 0.958851077208406\n",
      "0.1      | 0.998334166468282\n",
      "-0.1     | 0.998334166468282\n",
      "0.01     | 0.999983333416666\n",
      "-0.01    | 0.999983333416666\n",
      "0.001    | 0.999999833333342\n",
      "-0.001   | 0.999999833333342\n"
     ]
    }
   ],
   "source": [
    "Xvalues = [0.5,-0.5,0.1,-0.1,0.01,-0.01,0.001,-0.001]\n",
    "resultArray = []\n",
    "\n",
    "for values in Xvalues:\n",
    "    resultArray.append([str(values), g(values)])\n",
    "    \n",
    "print(\"x\", \" \"*6, \"| f(x)\")\n",
    "print(\"-\"*28)\n",
    "for result in resultArray:\n",
    "    print (result[0], \" \"*(7 - len(result[0])), \"|\", result[1])"
   ]
  },
  {
   "cell_type": "markdown",
   "metadata": {
    "hidden": false,
    "slideshow": {
     "slide_type": "slide"
    }
   },
   "source": [
    "Next, let's look at the graph."
   ]
  },
  {
   "cell_type": "code",
   "execution_count": 13,
   "metadata": {
    "hidden": false,
    "slideshow": {
     "slide_type": "fragment"
    }
   },
   "outputs": [
    {
     "data": {
      "image/png": "[encoded data removed]",
      "text/plain": [
       "<Figure size 432x288 with 1 Axes>"
      ]
     },
     "metadata": {
      "needs_background": "light"
     },
     "output_type": "display_data"
    }
   ],
   "source": [
    "graph = plot(g(x), (x, -0.5, 0.5))"
   ]
  },
  {
   "cell_type": "markdown",
   "metadata": {
    "hidden": false,
    "slideshow": {
     "slide_type": "slide"
    }
   },
   "source": [
    "Finally, we can use Python to simply compute the limit:"
   ]
  },
  {
   "cell_type": "code",
   "execution_count": 14,
   "metadata": {
    "hidden": false,
    "slideshow": {
     "slide_type": "fragment"
    }
   },
   "outputs": [
    {
     "data": {
      "image/png": "[encoded data removed]",
      "text/latex": [
       "$\\displaystyle 1$"
      ],
      "text/plain": [
       "1"
      ]
     },
     "execution_count": 14,
     "metadata": {},
     "output_type": "execute_result"
    }
   ],
   "source": [
    "limit(g(x),x,0)"
   ]
  },
  {
   "cell_type": "markdown",
   "metadata": {
    "hidden": false,
    "slideshow": {
     "slide_type": "slide"
    }
   },
   "source": [
    "So, how do we see this is true? Consider the following diagram. The length of the first vertical line (in blue), is $\\sin(x)$. The length of the circular arc (in red), is $x$, and the length of the second vertical line (in green) is $\\tan(x)$."
   ]
  },
  {
   "cell_type": "code",
   "execution_count": 15,
   "metadata": {
    "hidden": false,
    "slideshow": {
     "slide_type": "fragment"
    }
   },
   "outputs": [
    {
     "data": {
      "text/html": [
       "\n",
       "<div id=\"ggb3\"></div>\n",
       "<script> \n",
       "    require.config({paths: {gb: \"https://cdn.geogebra.org/apps/deployggb\"}});\n",
       "    require([\"gb\"], function(gb) {\n",
       "      var ggbApp = new GGBApplet({\n",
       "          \"height\": 400,\n",
       "          \"showToolBar\": false,\n",
       "          \"showMenuBar\": false,\n",
       "          \"showAlgebraInput\": false,\n",
       "          \"showResetIcon\": true,\n",
       "          \"enableLabelDrags\": false,\n",
       "          \"enableRightClick\": false,\n",
       "          \"enableShiftDragZoom\": true,\n",
       "          \"useBrowserForJS\": false,\n",
       "          \"material_id\": \"vrfvagcx\"\n",
       "      }, 'ggb3');\n",
       "\n",
       "  ggbApp.inject();\n",
       "    });\n",
       "</script>\n"
      ],
      "text/plain": [
       "<IPython.core.display.HTML object>"
      ]
     },
     "metadata": {},
     "output_type": "display_data"
    }
   ],
   "source": [
    "html_text = '''\n",
    "<div id=\"ggb3\"></div>\n",
    "<script> \n",
    "    require.config({paths: {gb: \"https://cdn.geogebra.org/apps/deployggb\"}});\n",
    "    require([\"gb\"], function(gb) {\n",
    "      var ggbApp = new GGBApplet({\n",
    "          \"height\": 400,\n",
    "          \"showToolBar\": false,\n",
    "          \"showMenuBar\": false,\n",
    "          \"showAlgebraInput\": false,\n",
    "          \"showResetIcon\": true,\n",
    "          \"enableLabelDrags\": false,\n",
    "          \"enableRightClick\": false,\n",
    "          \"enableShiftDragZoom\": true,\n",
    "          \"useBrowserForJS\": false,\n",
    "          \"material_id\": \"vrfvagcx\"\n",
    "      }, 'ggb3');\n",
    "\n",
    "  ggbApp.inject();\n",
    "    });\n",
    "</script>\n",
    "'''\n",
    "\n",
    "display(HTML(html_text))"
   ]
  },
  {
   "cell_type": "markdown",
   "metadata": {
    "hidden": false,
    "slideshow": {
     "slide_type": "slide"
    }
   },
   "source": [
    "We see that for all values of $x> 0$, we have\n",
    "\n",
    "$$\\sin(x)\\leq x\\leq \\tan(x).$$\n",
    "\n",
    "This can be rearranged to give\n",
    "\n",
    "$$\\cos(x) \\leq \\frac{\\sin(x)}{x}\\leq 1,$$\n",
    "\n",
    "and this is true for any $x>0$. (With a bit more work, the same inequality holds for $x<0$.)\n",
    "\n",
    "Now we can ask: what happens when we let $x\\to 0$?"
   ]
  },
  {
   "cell_type": "code",
   "execution_count": 16,
   "metadata": {
    "hidden": false,
    "slideshow": {
     "slide_type": "slide"
    }
   },
   "outputs": [
    {
     "data": {
      "text/html": [
       "\n",
       "<div id=\"ggb4\"></div>\n",
       "<script> \n",
       "    require.config({paths: {gb: \"https://cdn.geogebra.org/apps/deployggb\"}});\n",
       "    require([\"gb\"], function(gb) {\n",
       "      var ggbApp = new GGBApplet({\n",
       "          \"height\": 400,\n",
       "          \"showToolBar\": false,\n",
       "          \"showMenuBar\": false,\n",
       "          \"showAlgebraInput\": false,\n",
       "          \"showResetIcon\": true,\n",
       "          \"enableLabelDrags\": false,\n",
       "          \"enableRightClick\": false,\n",
       "          \"enableShiftDragZoom\": true,\n",
       "          \"useBrowserForJS\": false,\n",
       "          \"material_id\": \"cucrrvqg\"\n",
       "      }, 'ggb4');\n",
       "\n",
       "  ggbApp.inject();\n",
       "    });\n",
       "</script>\n"
      ],
      "text/plain": [
       "<IPython.core.display.HTML object>"
      ]
     },
     "metadata": {},
     "output_type": "display_data"
    }
   ],
   "source": [
    "html_text = '''\n",
    "<div id=\"ggb4\"></div>\n",
    "<script> \n",
    "    require.config({paths: {gb: \"https://cdn.geogebra.org/apps/deployggb\"}});\n",
    "    require([\"gb\"], function(gb) {\n",
    "      var ggbApp = new GGBApplet({\n",
    "          \"height\": 400,\n",
    "          \"showToolBar\": false,\n",
    "          \"showMenuBar\": false,\n",
    "          \"showAlgebraInput\": false,\n",
    "          \"showResetIcon\": true,\n",
    "          \"enableLabelDrags\": false,\n",
    "          \"enableRightClick\": false,\n",
    "          \"enableShiftDragZoom\": true,\n",
    "          \"useBrowserForJS\": false,\n",
    "          \"material_id\": \"cucrrvqg\"\n",
    "      }, 'ggb4');\n",
    "\n",
    "  ggbApp.inject();\n",
    "    });\n",
    "</script>\n",
    "'''\n",
    "\n",
    "display(HTML(html_text))"
   ]
  },
  {
   "cell_type": "code",
   "execution_count": null,
   "metadata": {
    "hidden": false
   },
   "outputs": [],
   "source": []
  }
 ],
 "metadata": {
  "celltoolbar": "Slideshow",
  "kernelspec": {
   "display_name": "Python 3 (ipykernel)",
   "language": "python",
   "name": "python3"
  },
  "language_info": {
   "codemirror_mode": {
    "name": "ipython",
    "version": 3
   },
   "file_extension": ".py",
   "mimetype": "text/x-python",
   "name": "python",
   "nbconvert_exporter": "python",
   "pygments_lexer": "ipython3",
   "version": "3.9.7"
  },
  "rise": {
   "enable_chalkboard": true
  }
 },
 "nbformat": 4,
 "nbformat_minor": 2
}
