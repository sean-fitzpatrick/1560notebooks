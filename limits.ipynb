{
 "cells": [
  {
   "cell_type": "code",
   "execution_count": 2,
   "metadata": {
    "hidden": false,
    "slideshow": {
     "slide_type": "skip"
    }
   },
   "outputs": [
    {
     "data": {
      "text/html": [
       "<div id=\"ggbLoadMsg\"></div>"
      ],
      "text/plain": [
       "<IPython.core.display.HTML object>"
      ]
     },
     "metadata": {},
     "output_type": "display_data"
    },
    {
     "data": {
      "application/javascript": [
       "\n",
       "            window.ggbRequireStatus = 'loading';\n",
       "            requirejs.config({\n",
       "                paths: {\n",
       "                    ggb: \"https://cdn.geogebra.org/apps/deployggb\"\n",
       "                }\n",
       "            });\n",
       "\n",
       "            window.safeGGB = function safeGGB(counter, cb) {\n",
       "                if (window.ggbRequireStatus == 'failed') {\n",
       "                    console.log('panic-failed');\n",
       "                }\n",
       "\n",
       "                if (window.ggbRequireStatus == 'loading') {\n",
       "                    if (counter > 0) {\n",
       "                        console.log('in-loop' + counter);\n",
       "                        counter = counter-1;\n",
       "                        setTimeout(() => safeGGB(counter, cb), 2000);\n",
       "                    } else {\n",
       "                        console.log('panic-timeout');\n",
       "                    }\n",
       "                } else if (window.ggbRequireStatus == 'loaded') {\n",
       "                    cb();\n",
       "                }\n",
       "\n",
       "            }\n",
       "\n",
       "            requirejs(\n",
       "                [\"ggb\"],\n",
       "                () => {\n",
       "                    window.ggbRequireStatus = 'loaded';\n",
       "                    console.log('loaded');\n",
       "                    return;\n",
       "                },\n",
       "                (err) => {\n",
       "                    if (err.requireModules) {\n",
       "                        window.ggbRequireStatus = 'failed';\n",
       "                        console.error(\"There was an error while downloading one or more required Javascript Libraries.\");\n",
       "                        err.requireModules.forEach(failedItem => {\n",
       "                            console.error(\"Failed to load: \" + failedItem);\n",
       "                            $('#ggbLoadMsg').append('<p>Failed to load: ' + failedItem + '</p>');\n",
       "                        });\n",
       "                        $('#ggbLoadMsg').append('<p>Please check your internet connection.</p>');\n",
       "                        $('#ggbLoadMsg').css({'color':'red', 'font-size':'150%'});\n",
       "                    }\n",
       "                }\n",
       "            );\n",
       "\n",
       "            console.log(window.ggbRequireStatus);\n",
       "        "
      ],
      "text/plain": [
       "<IPython.core.display.Javascript object>"
      ]
     },
     "metadata": {},
     "output_type": "display_data"
    }
   ],
   "source": [
    "from geogebra.ggb import *\n",
    "\n",
    "ggb = GGB()\n",
    "\n",
    "from sympy import *\n",
    "x, y, z = symbols('x y z')\n",
    "init_printing(use_unicode=True)"
   ]
  },
  {
   "cell_type": "markdown",
   "metadata": {
    "hidden": false,
    "slideshow": {
     "slide_type": "slide"
    }
   },
   "source": [
    "# Let's look at limits!\n",
    "\n",
    "## Math 1560 Calculus I\n",
    "\n",
    "### Sean Fitzpatrick\n",
    "### University of Lethbridge, Fall 2019"
   ]
  },
  {
   "cell_type": "markdown",
   "metadata": {
    "hidden": false,
    "slideshow": {
     "slide_type": "slide"
    }
   },
   "source": [
    "## The concept of a limit\n",
    "\n",
    "The **limit** concept is a difficult one, but it's essential to understanding calculus.\n",
    "When we write \n",
    "$$\\lim_{x\\to c}f(x) = L,$$\n",
    "we are saying that the values of $f(x)$ can be made as close to $L$ as we want,\n",
    "as long as we use an $x$ value that's close enough to $c$.\n",
    "\n",
    "Crucially, we do not allow $x$ to equal $c$ in the definition. It can get close, but never equal."
   ]
  },
  {
   "cell_type": "markdown",
   "metadata": {
    "hidden": false,
    "slideshow": {
     "slide_type": "slide"
    }
   },
   "source": [
    "Here's the graph of a function. Notice how the $y$ values change as we drag $x$. At what points does it appear as though our function does not have a limit?"
   ]
  },
  {
   "cell_type": "code",
   "execution_count": 3,
   "metadata": {
    "hidden": false,
    "slideshow": {
     "slide_type": "fragment"
    }
   },
   "outputs": [
    {
     "data": {
      "text/html": [
       "<div id=\"ggb_0_0e\"></div>"
      ],
      "text/plain": [
       "<IPython.core.display.HTML object>"
      ]
     },
     "metadata": {},
     "output_type": "display_data"
    },
    {
     "data": {
      "application/javascript": [
       "window.safeGGB(5, () => {\n",
       "var ggb_0_0e = new GGBApplet({\"material_id\": \"pahq4ff7\"}, \"ggb_0_0e\", false);\n",
       " ggb_0_0e.inject();\n",
       "\n",
       "})"
      ],
      "text/plain": [
       "<IPython.core.display.Javascript object>"
      ]
     },
     "metadata": {},
     "output_type": "display_data"
    }
   ],
   "source": [
    "ggb.material('pahq4ff7').draw()"
   ]
  },
  {
   "cell_type": "markdown",
   "metadata": {
    "hidden": false,
    "slideshow": {
     "slide_type": "slide"
    }
   },
   "source": [
    "## An algebraic limit\n",
    "\n",
    "\n",
    "Consider the following example:\n",
    "\n",
    "$$\\lim_{x\\to 2}\\frac{x^2-5x+6}{x^2-4} = -\\frac14$$\n",
    "\n",
    "Why is this true?"
   ]
  },
  {
   "cell_type": "markdown",
   "metadata": {
    "hidden": false,
    "slideshow": {
     "slide_type": "slide"
    }
   },
   "source": [
    "First, look at the graph:"
   ]
  },
  {
   "cell_type": "code",
   "execution_count": 4,
   "metadata": {
    "hidden": false,
    "slideshow": {
     "slide_type": "fragment"
    }
   },
   "outputs": [
    {
     "data": {
      "text/html": [
       "<div id=\"ggb_1_0e\"></div>"
      ],
      "text/plain": [
       "<IPython.core.display.HTML object>"
      ]
     },
     "metadata": {},
     "output_type": "display_data"
    },
    {
     "data": {
      "application/javascript": [
       "window.safeGGB(5, () => {\n",
       "var ggb_1_0e = new GGBApplet({\"material_id\": \"rnajzfgq\"}, \"ggb_1_0e\", false);\n",
       " ggb_1_0e.inject();\n",
       "\n",
       "})"
      ],
      "text/plain": [
       "<IPython.core.display.Javascript object>"
      ]
     },
     "metadata": {},
     "output_type": "display_data"
    }
   ],
   "source": [
    "ggb.material('rnajzfgq').draw()"
   ]
  },
  {
   "cell_type": "markdown",
   "metadata": {
    "hidden": false,
    "slideshow": {
     "slide_type": "slide"
    }
   },
   "source": [
    "We can also program this function into the computer, and analyze it.\n",
    "\n",
    "Below, we're using the *Sympy* library of the Python programming language.\n",
    "\n",
    "It lets us have nicer looking output than pure Python."
   ]
  },
  {
   "cell_type": "code",
   "execution_count": null,
   "metadata": {
    "hidden": false,
    "slideshow": {
     "slide_type": "fragment"
    }
   },
   "outputs": [],
   "source": [
    "def f(x):\n",
    "    return (x**2-5*x+6)/(x**2-4)"
   ]
  },
  {
   "cell_type": "markdown",
   "metadata": {
    "hidden": false,
    "slideshow": {
     "slide_type": "fragment"
    }
   },
   "source": [
    "Let's make sure the computer understood us correctly."
   ]
  },
  {
   "cell_type": "code",
   "execution_count": null,
   "metadata": {
    "hidden": false,
    "slideshow": {
     "slide_type": "fragment"
    }
   },
   "outputs": [],
   "source": [
    "f(x)"
   ]
  },
  {
   "cell_type": "markdown",
   "metadata": {
    "hidden": false,
    "slideshow": {
     "slide_type": "slide"
    }
   },
   "source": [
    "Fortunately for us, Sympy knows how to compute limits of functions. The syntax is `limit(function, variable, value)`.\n",
    "\n",
    "Let's give it a try."
   ]
  },
  {
   "cell_type": "code",
   "execution_count": null,
   "metadata": {
    "hidden": false,
    "slideshow": {
     "slide_type": "fragment"
    }
   },
   "outputs": [],
   "source": [
    "limit(f(x),x,2)"
   ]
  },
  {
   "cell_type": "markdown",
   "metadata": {
    "hidden": false,
    "slideshow": {
     "slide_type": "slide"
    }
   },
   "source": [
    "All signs seem to point to a limit of $-\\frac14$. How do we see this for ourselves?\n",
    "\n",
    "Note that a limit is necessary here: $f(2)$ is undefined.\n",
    "\n",
    "If we try to put $x=2$, we get the nonsensical result of $\\frac00$.\n",
    "\n",
    "But this is a *rational function*: the top and bottom are both *polynomials*.\n",
    "\n",
    "For any polynomial $p(x)$, if $p(a)=0$, then $(x-a)$ is a factor!\n",
    "\n",
    "So we should be able to factor out $(x-2)$ from both top and bottom:\n",
    "\n",
    "$$f(x) = \\frac{x^2-5x+6}{x^2-4} = \\frac{(x-2)(x-3)}{(x-2)(x+2)}$$"
   ]
  },
  {
   "cell_type": "markdown",
   "metadata": {
    "hidden": false,
    "slideshow": {
     "slide_type": "subslide"
    }
   },
   "source": [
    "Next, you want to cancel the $x-2$ factors and proceed.\n",
    "\n",
    "But it would be **false** to write $f(x)=\\dfrac{x-3}{x+2}$, because we lose the exception $x\\neq 2$.\n",
    "\n",
    "Here's where limits come to the rescue!\n",
    "\n",
    "Remember: in $\\lim\\limits_{x\\to 2}f(x)$, we consider values of $x$ close to 2, *but not equal to 2*. \n",
    "\n",
    "Since we don't let $x=2$, we're allowed to cancel, and after that, the properties of limits take over:"
   ]
  },
  {
   "cell_type": "markdown",
   "metadata": {
    "hidden": false,
    "slideshow": {
     "slide_type": "subslide"
    }
   },
   "source": [
    "$$\\begin{aligned}\\lim_{x\\to 2}f(x) &= \\lim_{x\\to 2}\\frac{x^2-5x+6}{x^2-4}\\\\\n",
    "&= \\lim_{x\\to 2}\\frac{x-3}{x+2}\\\\\n",
    "&= \\frac{\\lim_{x\\to 2}(x-3)}{\\lim_{x\\to 2}(x+2)}\\\\\n",
    "&= \\frac{2-3}{2+2} = -\\frac14,\\end{aligned}$$\n",
    "\n",
    "just as we expected."
   ]
  },
  {
   "cell_type": "markdown",
   "metadata": {
    "hidden": false,
    "slideshow": {
     "slide_type": "slide"
    }
   },
   "source": [
    "## A trigonometric limit\n",
    "\n",
    "Next, we're going to explore the limit\n",
    "\n",
    "$$\\lim_{x\\to 0}\\dfrac{\\sin(x)}{x}.$$\n",
    "\n",
    "Like the last example, trying to evaluate directly results in $\\frac00$.\n",
    "\n",
    "Unlike the last example, we cannot simply factor an $x$ out from the top to cancel it.\n",
    "\n",
    "To get an idea of what we're dealing with, we'll first explore numerically and graphically."
   ]
  },
  {
   "cell_type": "markdown",
   "metadata": {
    "hidden": false,
    "slideshow": {
     "slide_type": "slide"
    }
   },
   "source": [
    "Let's start by defining our function."
   ]
  },
  {
   "cell_type": "code",
   "execution_count": null,
   "metadata": {
    "hidden": false,
    "slideshow": {
     "slide_type": "fragment"
    }
   },
   "outputs": [],
   "source": [
    "def g(x):\n",
    "    return sin(x)/x"
   ]
  },
  {
   "cell_type": "markdown",
   "metadata": {
    "hidden": false,
    "slideshow": {
     "slide_type": "fragment"
    }
   },
   "source": [
    "Let's confirm that this is what we want by asking Jupyter to display the function."
   ]
  },
  {
   "cell_type": "code",
   "execution_count": null,
   "metadata": {
    "hidden": false,
    "scrolled": true,
    "slideshow": {
     "slide_type": "fragment"
    }
   },
   "outputs": [],
   "source": [
    "g(x)"
   ]
  },
  {
   "cell_type": "markdown",
   "metadata": {
    "hidden": false,
    "slideshow": {
     "slide_type": "slide"
    }
   },
   "source": [
    "Next, let's enter some test values for our function near $x=0$, and add some code to produce the corresponding $y$ values."
   ]
  },
  {
   "cell_type": "code",
   "execution_count": null,
   "metadata": {
    "hidden": false,
    "scrolled": true,
    "slideshow": {
     "slide_type": "fragment"
    }
   },
   "outputs": [],
   "source": [
    "Xvalues = [0.5,-0.5,0.1,-0.1,0.01,-0.01,0.001,-0.001]\n",
    "resultArray = []\n",
    "\n",
    "for values in Xvalues:\n",
    "    resultArray.append([str(values), g(values)])\n",
    "    \n",
    "print(\"x\", \" \"*6, \"| f(x)\")\n",
    "print(\"-\"*28)\n",
    "for result in resultArray:\n",
    "    print (result[0], \" \"*(7 - len(result[0])), \"|\", result[1])"
   ]
  },
  {
   "cell_type": "markdown",
   "metadata": {
    "hidden": false,
    "slideshow": {
     "slide_type": "slide"
    }
   },
   "source": [
    "Next, let's look at the graph."
   ]
  },
  {
   "cell_type": "code",
   "execution_count": null,
   "metadata": {
    "hidden": false,
    "slideshow": {
     "slide_type": "fragment"
    }
   },
   "outputs": [],
   "source": [
    "graph = plot(g(x), (x, -0.5, 0.5))"
   ]
  },
  {
   "cell_type": "markdown",
   "metadata": {
    "hidden": false,
    "slideshow": {
     "slide_type": "slide"
    }
   },
   "source": [
    "Finally, we can use Python to simply compute the limit:"
   ]
  },
  {
   "cell_type": "code",
   "execution_count": null,
   "metadata": {
    "hidden": false,
    "slideshow": {
     "slide_type": "fragment"
    }
   },
   "outputs": [],
   "source": [
    "limit(g(x),x,0)"
   ]
  },
  {
   "cell_type": "markdown",
   "metadata": {
    "hidden": false,
    "slideshow": {
     "slide_type": "slide"
    }
   },
   "source": [
    "So, how do we see this is true? Consider the following diagram. The length of the first vertical line (in blue), is $\\sin(x)$. The length of the circular arc (in red), is $x$, and the length of the second vertical line (in green) is $\\tan(x)$."
   ]
  },
  {
   "cell_type": "code",
   "execution_count": 5,
   "metadata": {
    "hidden": false,
    "slideshow": {
     "slide_type": "fragment"
    }
   },
   "outputs": [
    {
     "data": {
      "text/html": [
       "<div id=\"ggb_2_0e\"></div>"
      ],
      "text/plain": [
       "<IPython.core.display.HTML object>"
      ]
     },
     "metadata": {},
     "output_type": "display_data"
    },
    {
     "data": {
      "application/javascript": [
       "window.safeGGB(5, () => {\n",
       "var ggb_2_0e = new GGBApplet({\"material_id\": \"vrfvagcx\"}, \"ggb_2_0e\", false);\n",
       " ggb_2_0e.inject();\n",
       "\n",
       "})"
      ],
      "text/plain": [
       "<IPython.core.display.Javascript object>"
      ]
     },
     "metadata": {},
     "output_type": "display_data"
    }
   ],
   "source": [
    "ggb.material('vrfvagcx').draw()"
   ]
  },
  {
   "cell_type": "markdown",
   "metadata": {
    "hidden": false,
    "slideshow": {
     "slide_type": "slide"
    }
   },
   "source": [
    "We see that for all values of $x> 0$, we have\n",
    "\n",
    "$$\\sin(x)\\leq x\\leq \\tan(x).$$\n",
    "\n",
    "This can be rearranged to give\n",
    "\n",
    "$$\\cos(x) \\leq \\frac{\\sin(x)}{x}\\leq 1,$$\n",
    "\n",
    "and this is true for any $x>0$. (With a bit more work, the same inequality holds for $x<0$.)\n",
    "\n",
    "Now we can ask: what happens when we let $x\\to 1$?"
   ]
  },
  {
   "cell_type": "code",
   "execution_count": 6,
   "metadata": {
    "hidden": false,
    "slideshow": {
     "slide_type": "slide"
    }
   },
   "outputs": [
    {
     "data": {
      "text/html": [
       "<div id=\"ggb_3_0e\"></div>"
      ],
      "text/plain": [
       "<IPython.core.display.HTML object>"
      ]
     },
     "metadata": {},
     "output_type": "display_data"
    },
    {
     "data": {
      "application/javascript": [
       "window.safeGGB(5, () => {\n",
       "var ggb_3_0e = new GGBApplet({\"material_id\": \"cucrrvqg\"}, \"ggb_3_0e\", false);\n",
       " ggb_3_0e.inject();\n",
       "\n",
       "})"
      ],
      "text/plain": [
       "<IPython.core.display.Javascript object>"
      ]
     },
     "metadata": {},
     "output_type": "display_data"
    }
   ],
   "source": [
    "ggb.material('cucrrvqg').draw()"
   ]
  },
  {
   "cell_type": "code",
   "execution_count": null,
   "metadata": {
    "hidden": false
   },
   "outputs": [],
   "source": []
  }
 ],
 "metadata": {
  "celltoolbar": "Slideshow",
  "kernelspec": {
   "display_name": "Python 3",
   "language": "python",
   "name": "python3"
  },
  "language_info": {
   "codemirror_mode": {
    "name": "ipython",
    "version": 3
   },
   "file_extension": ".py",
   "mimetype": "text/x-python",
   "name": "python",
   "nbconvert_exporter": "python",
   "pygments_lexer": "ipython3",
   "version": "3.7.3"
  },
  "rise": {
   "enable_chalkboard": true
  }
 },
 "nbformat": 4,
 "nbformat_minor": 2
}
