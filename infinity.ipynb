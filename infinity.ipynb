{
 "cells": [
  {
   "cell_type": "code",
   "execution_count": 1,
   "metadata": {
    "hidden": false,
    "slideshow": {
     "slide_type": "skip"
    }
   },
   "outputs": [],
   "source": [
    "from sympy import *\n",
    "x, y, z = symbols('x y z')\n",
    "init_printing(use_unicode=True)"
   ]
  },
  {
   "cell_type": "markdown",
   "metadata": {
    "hidden": false,
    "slideshow": {
     "slide_type": "slide"
    }
   },
   "source": [
    "# Limits Involving Infinity\n",
    "\n",
    "## (A.K.A. Horizontal and Vertical Asymptotes)\n",
    "\n",
    "### Math 1560\n",
    "\n",
    "### 17 September, 2019"
   ]
  },
  {
   "cell_type": "markdown",
   "metadata": {
    "hidden": false,
    "slideshow": {
     "slide_type": "slide"
    }
   },
   "source": [
    "## Limits at infinity\n",
    "\n",
    "What happens to $f(x)$ when $x$ is \"really big?\"\n",
    "\n",
    "- This is all about *end behaviour*\n",
    "- We're looking for \"eventual trends\" in the value of $f(x)$\n",
    "\n",
    "$\\lim\\limits_{x\\to \\infty}f(x) = L$ means $f(x)$ will be \"close\" to $L$ when $x$ is \"sufficiently\" big."
   ]
  },
  {
   "cell_type": "markdown",
   "metadata": {
    "hidden": false,
    "slideshow": {
     "slide_type": "subslide"
    }
   },
   "source": [
    "### Basic examples\n",
    "\n",
    "1. $f(x) = x^n$, $n>0$\n",
    "2. $g(x) = e^x$\n",
    "3. $h(x) = \\sin(x)$"
   ]
  },
  {
   "cell_type": "markdown",
   "metadata": {
    "hidden": false,
    "slideshow": {
     "slide_type": "subslide"
    }
   },
   "source": [
    "### Rational functions\n",
    "\n",
    "- Factor out the highest power!\n",
    "\n",
    "$$f(x) = \\frac{x^2+2x}{3x^3-x^2+1} \\quad g(x) = \\frac{3x^4+4x}{x^2+9} \\quad h(x) = \\frac{9x^3-2x+1}{1-2x+x^3}$$"
   ]
  },
  {
   "cell_type": "markdown",
   "metadata": {
    "hidden": false,
    "slideshow": {
     "slide_type": "slide"
    }
   },
   "source": [
    "### Horizontal asymptotes\n",
    "\n",
    "If $\\lim\\limits_{x\\to \\infty}f(x)=L$ we say $y=L$ is a *horizontal asymptote* of the graph $y=f(x)$.\n",
    "\n",
    "(Same is true for $x\\to -\\infty$)"
   ]
  },
  {
   "cell_type": "markdown",
   "metadata": {
    "hidden": false,
    "slideshow": {
     "slide_type": "subslide"
    }
   },
   "source": [
    "### Examples\n",
    "\n",
    "1. $f(x) = e^{-x}+3$\n",
    "2. $g(x) = \\dfrac{\\sin(x)}{x}$\n",
    "3. $h(x) = \\dfrac{2x}{x^2+4}$"
   ]
  },
  {
   "cell_type": "markdown",
   "metadata": {
    "hidden": false,
    "slideshow": {
     "slide_type": "slide"
    }
   },
   "source": [
    "## Infinite limits\n",
    "\n",
    "Reminder: a \"$\\frac00$\" limit is an *indeterminate form*: we try to eliminate whatever is creating the zeros and then evaluate."
   ]
  },
  {
   "cell_type": "markdown",
   "metadata": {
    "hidden": false,
    "slideshow": {
     "slide_type": "fragment"
    }
   },
   "source": [
    "If the denomintator is going to zero but the numerator isn't, then $f(x)$ becomes *unbounded*.\n",
    "\n",
    "Example: $f(x) = \\dfrac{1}{x^2}$ as $x\\to 0$."
   ]
  },
  {
   "cell_type": "markdown",
   "metadata": {
    "hidden": false,
    "slideshow": {
     "slide_type": "subslide"
    }
   },
   "source": [
    "### Procedure for evaluating infinite limits\n",
    "\n",
    "1. Establish that the function is unbounded at $c$. (Usually: there's a zero in the denominator that doesn't cancel.)\n",
    "2. Decide if the function is positive or negative near $c$.\n",
    "3. If $f(x)>0$ near $c$, $\\lim\\limits_{x\\to c}f(x) = \\infty$. If $f(x)<0$ near $c$, $\\lim\\limits_{x\\to c}f(x) = -\\infty$\n",
    "\n",
    "**Note**: $f(x)$ might change sign at $c$, so you probably need left and right hand limits."
   ]
  },
  {
   "cell_type": "markdown",
   "metadata": {
    "hidden": false,
    "slideshow": {
     "slide_type": "subslide"
    }
   },
   "source": [
    "### Example\n",
    "\n",
    "Find $\\lim\\limits_{x\\to 1}f(x)$ and $\\lim\\limits_{x\\to 2}f(x)$, where $f(x) = \\dfrac{x^2-2x}{x^2-3x+2}$."
   ]
  },
  {
   "cell_type": "markdown",
   "metadata": {
    "hidden": false,
    "slideshow": {
     "slide_type": "slide"
    }
   },
   "source": [
    "### Vertical asymptotes\n",
    "\n",
    "If $\\lim\\limits_{x\\to c^+}f(x) = \\pm\\infty$ or $\\lim\\limits_{x\\to c^-}f(x) = \\pm\\infty$, then we say $x=c$ is a **vertical asymptote** for the graph $y=f(x)$."
   ]
  },
  {
   "cell_type": "code",
   "execution_count": 11,
   "metadata": {
    "hidden": false,
    "slideshow": {
     "slide_type": "fragment"
    }
   },
   "outputs": [],
   "source": [
    "def f(x):\n",
    "    return (x**2-2*x)/(x**2-3*x+2)"
   ]
  },
  {
   "cell_type": "code",
   "execution_count": 12,
   "metadata": {
    "hidden": false,
    "slideshow": {
     "slide_type": "fragment"
    }
   },
   "outputs": [
    {
     "data": {
      "image/png": "[encoded data removed]",
      "text/plain": [
       "<Figure size 432x288 with 1 Axes>"
      ]
     },
     "metadata": {
      "needs_background": "light"
     },
     "output_type": "display_data"
    }
   ],
   "source": [
    "graph = plot(f(x),(x,0,3))"
   ]
  }
 ],
 "metadata": {
  "celltoolbar": "Slideshow",
  "kernelspec": {
   "display_name": "Python 3",
   "language": "python",
   "name": "python3"
  },
  "language_info": {
   "codemirror_mode": {
    "name": "ipython",
    "version": 3
   },
   "file_extension": ".py",
   "mimetype": "text/x-python",
   "name": "python",
   "nbconvert_exporter": "python",
   "pygments_lexer": "ipython3",
   "version": "3.7.3"
  },
  "rise": {
   "center": false,
   "enable_chalkboard": true
  }
 },
 "nbformat": 4,
 "nbformat_minor": 2
}
