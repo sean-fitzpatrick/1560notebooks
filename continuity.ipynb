{
 "cells": [
  {
   "cell_type": "code",
   "execution_count": 1,
   "metadata": {
    "hidden": false,
    "slideshow": {
     "slide_type": "skip"
    }
   },
   "outputs": [
    {
     "data": {
      "text/html": [
       "\n",
       "<script src=\"https://cdn.geogebra.org.apps/deployggb.js\"></script>\n"
      ],
      "text/plain": [
       "<IPython.core.display.HTML object>"
      ]
     },
     "metadata": {},
     "output_type": "display_data"
    }
   ],
   "source": [
    "%%html\n",
    "\n",
    "<script src=\"https://cdn.geogebra.org.apps/deployggb.js\"></script>"
   ]
  },
  {
   "cell_type": "code",
   "execution_count": 2,
   "metadata": {
    "hidden": false,
    "slideshow": {
     "slide_type": "skip"
    }
   },
   "outputs": [
    {
     "data": {
      "text/html": [
       "<div id=\"ggbLoadMsg\"></div>"
      ],
      "text/plain": [
       "<IPython.core.display.HTML object>"
      ]
     },
     "metadata": {},
     "output_type": "display_data"
    },
    {
     "data": {
      "application/javascript": [
       "\n",
       "            window.ggbRequireStatus = 'loading';\n",
       "            requirejs.config({\n",
       "                paths: {\n",
       "                    ggb: \"https://cdn.geogebra.org/apps/deployggb\"\n",
       "                }\n",
       "            });\n",
       "\n",
       "            window.safeGGB = function safeGGB(counter, cb) {\n",
       "                if (window.ggbRequireStatus == 'failed') {\n",
       "                    console.log('panic-failed');\n",
       "                }\n",
       "\n",
       "                if (window.ggbRequireStatus == 'loading') {\n",
       "                    if (counter > 0) {\n",
       "                        console.log('in-loop' + counter);\n",
       "                        counter = counter-1;\n",
       "                        setTimeout(() => safeGGB(counter, cb), 2000);\n",
       "                    } else {\n",
       "                        console.log('panic-timeout');\n",
       "                    }\n",
       "                } else if (window.ggbRequireStatus == 'loaded') {\n",
       "                    cb();\n",
       "                }\n",
       "\n",
       "            }\n",
       "\n",
       "            requirejs(\n",
       "                [\"ggb\"],\n",
       "                () => {\n",
       "                    window.ggbRequireStatus = 'loaded';\n",
       "                    console.log('loaded');\n",
       "                    return;\n",
       "                },\n",
       "                (err) => {\n",
       "                    if (err.requireModules) {\n",
       "                        window.ggbRequireStatus = 'failed';\n",
       "                        console.error(\"There was an error while downloading one or more required Javascript Libraries.\");\n",
       "                        err.requireModules.forEach(failedItem => {\n",
       "                            console.error(\"Failed to load: \" + failedItem);\n",
       "                            $('#ggbLoadMsg').append('<p>Failed to load: ' + failedItem + '</p>');\n",
       "                        });\n",
       "                        $('#ggbLoadMsg').append('<p>Please check your internet connection.</p>');\n",
       "                        $('#ggbLoadMsg').css({'color':'red', 'font-size':'150%'});\n",
       "                    }\n",
       "                }\n",
       "            );\n",
       "\n",
       "            console.log(window.ggbRequireStatus);\n",
       "        "
      ],
      "text/plain": [
       "<IPython.core.display.Javascript object>"
      ]
     },
     "metadata": {},
     "output_type": "display_data"
    }
   ],
   "source": [
    "from geogebra.ggb import *\n",
    "\n",
    "ggb = GGB()"
   ]
  },
  {
   "cell_type": "markdown",
   "metadata": {
    "hidden": false,
    "slideshow": {
     "slide_type": "slide"
    }
   },
   "source": [
    "# Continuity\n",
    "\n",
    "## Math 1560\n",
    "\n",
    "### 17 September, 2019"
   ]
  },
  {
   "cell_type": "markdown",
   "metadata": {
    "hidden": false,
    "slideshow": {
     "slide_type": "slide"
    }
   },
   "source": [
    "Recall: a function $f$ is **continuous** at a point $c$ if\n",
    "\n",
    "$$\\lim_{x\\to c}f(x) = f(c)$$\n",
    "\n",
    "Implicit in this definition is that $\\lim\\limits_{x\\to c}f(x)$ exists, and that $f(c)$ is defined.\n",
    "\n",
    "We can say that $f$ is continuous on an open interval $(a,b)$ if $f$ is continuous at $c$ for each $c\\in (a,b)$."
   ]
  },
  {
   "cell_type": "markdown",
   "metadata": {
    "hidden": false,
    "slideshow": {
     "slide_type": "slide"
    }
   },
   "source": [
    "#### Continuity on closed intervals\n",
    "\n",
    "We want to be able to make statements like \"$f$ is continuous on its domain\" in cases where that domain is a closed interval.\n",
    "\n",
    "For example, $f(x) = \\sqrt{1-x^2}$ is defined when $x^2\\leq 1$, so its domain is $[-1,1]$.\n",
    "\n",
    "We say $f$ is continuous on $[a,b]$ if $f$ is continuous on $(a,b)$, *and*\n",
    "$$\\lim_{x\\to a^+}f(x) = f(a), \\text{ and } \\lim_{x\\to b^-}f(x) = f(b)$$"
   ]
  },
  {
   "cell_type": "markdown",
   "metadata": {
    "hidden": false,
    "slideshow": {
     "slide_type": "slide"
    }
   },
   "source": [
    "#### Example\n",
    "\n",
    "Determine the intervals on which $f$ is continuous, where\n",
    "$$f(x) = \\begin{cases} x^3-2x, & \\text{ if } x\\leq -1\\\\2x+3, & \\text{ if } -1<x<1\\\\1-x^2, & \\text{ if } x\\geq 1\\end{cases}$$"
   ]
  },
  {
   "cell_type": "markdown",
   "metadata": {
    "hidden": false,
    "slideshow": {
     "slide_type": "slide"
    }
   },
   "source": [
    "#### Common continuous functions\n",
    "\n",
    "In the last example, we made use of the fact that certain functions are known to be continuous.\n",
    "\n",
    "The following functions are continuous **everywhere**:\n",
    "- Any polynomial $p(x)$\n",
    "- Any exponential function $a^x$\n",
    "- The trig functions $\\sin(x)$ and $\\cos(x)$\n",
    "\n",
    "Other functions, like rational and root functions, $\\tan(x)$, $\\ln(x)$, etc. are continuous on their domains."
   ]
  },
  {
   "cell_type": "markdown",
   "metadata": {
    "hidden": false,
    "slideshow": {
     "slide_type": "slide"
    }
   },
   "source": [
    "#### Example\n",
    "\n",
    "Show that $f(x) = \\begin{cases}x^2+1, & \\text{ if } x<0\\\\ \\cos(x), & \\text{ if } x\\geq 0\\end{cases}$ is continuous everywhere."
   ]
  },
  {
   "cell_type": "markdown",
   "metadata": {
    "hidden": false,
    "slideshow": {
     "slide_type": "slide"
    }
   },
   "source": [
    "### Properties of continuous functions\n",
    "\n",
    "Key to working with continuous functions is being able to combine existing examples to create new ones.\n",
    "\n",
    "If $f$ and $g$ are both continuous at some point $c$, then so are:\n",
    "\n",
    "$f+g$, $f-g$, $kf$ ($k$ a constant), $fg$, $f/g$, (if $g(c)\\neq 0$) and $f\\circ g$"
   ]
  },
  {
   "cell_type": "markdown",
   "metadata": {
    "hidden": false,
    "slideshow": {
     "slide_type": "slide"
    }
   },
   "source": [
    "#### Example\n",
    "\n",
    "Show that $f(x) = \\ln(x^2+1)$ and $g(x) = \\sin(x) + \\lvert \\cos(x)\\rvert$ are continuous on $\\mathbb{R}$"
   ]
  },
  {
   "cell_type": "markdown",
   "metadata": {
    "hidden": false,
    "slideshow": {
     "slide_type": "slide"
    }
   },
   "source": [
    "#### Example\n",
    "\n",
    "Where is $f(x) = \\ln(x)+\\sqrt{4-x}$ continuous?"
   ]
  },
  {
   "cell_type": "markdown",
   "metadata": {
    "hidden": false,
    "slideshow": {
     "slide_type": "slide"
    }
   },
   "source": [
    "### What can go wrong?\n",
    "\n",
    "Common types of discontinuity are *removable*, *jump*, and *infinite*."
   ]
  },
  {
   "cell_type": "markdown",
   "metadata": {
    "hidden": false,
    "slideshow": {
     "slide_type": "slide"
    }
   },
   "source": [
    "### Intermediate Value Theorem\n",
    "\n",
    "**Theorem:** Let $f$ be continuous on $[a,b]$, and let $k$ be a number. If $f(a)<k$ and $f(b)>k$, then $f(c)=k$ for some $c\\in (a,b)$."
   ]
  },
  {
   "cell_type": "code",
   "execution_count": 6,
   "metadata": {
    "hidden": false,
    "slideshow": {
     "slide_type": "fragment"
    }
   },
   "outputs": [
    {
     "data": {
      "text/html": [
       "<div id=\"ggb_4_0e\"></div>"
      ],
      "text/plain": [
       "<IPython.core.display.HTML object>"
      ]
     },
     "metadata": {},
     "output_type": "display_data"
    },
    {
     "data": {
      "application/javascript": [
       "window.safeGGB(5, () => {\n",
       "var ggb_4_0e = new GGBApplet({\"material_id\": \"umxxz97b\", \"width\": 400, \"height\": 300}, \"ggb_4_0e\", false);\n",
       " ggb_4_0e.inject();\n",
       "\n",
       "})"
      ],
      "text/plain": [
       "<IPython.core.display.Javascript object>"
      ]
     },
     "metadata": {},
     "output_type": "display_data"
    }
   ],
   "source": [
    "ggb.material('umxxz97b').width(400).height(300).draw()"
   ]
  },
  {
   "cell_type": "markdown",
   "metadata": {
    "hidden": false,
    "slideshow": {
     "slide_type": "subslide"
    }
   },
   "source": [
    "### Root finding\n",
    "\n",
    "An important conclusion from the IVT: if a function $f$ changes sign at $c$, then either $f(c)=0$, or $f$ has a discontinuity at $c$.\n",
    "\n",
    "#### Example\n",
    "\n",
    "Show $f(x)=x^3+x-1$ has a root on $(0,1)$"
   ]
  },
  {
   "cell_type": "markdown",
   "metadata": {
    "hidden": false,
    "slideshow": {
     "slide_type": "slide"
    }
   },
   "source": [
    "### Bisection\n",
    "\n",
    "The IVT guarantees that $f(x)=x^3+x-1$ has a root on $(0,1)$, but doesn't tell us how to find it. Can we narrow it down?\n",
    "\n",
    "We know $f(0)<0$ and $f(1)>0$. Notice that $f(0.5) = 0.125+0.5-1=-0.375<0$. So $f(0.5)<0$ and $f(1)>0$, which tells us that the root is somewhere in $(0.5, 1)$.\n",
    "\n",
    "Next, we might try $f(0.75)$ but the calculations are already pretty ugly. Solution? Let the computer do it!"
   ]
  },
  {
   "cell_type": "markdown",
   "metadata": {
    "hidden": false,
    "slideshow": {
     "slide_type": "subslide"
    }
   },
   "source": [
    "We'll try a short program to implement the bisection method, courtesy of Patrick Walls at UBC.\n",
    "\n",
    "Basically, we first check that $f(a)f(b)<0$ (opposite signs at the two endpoints).\n",
    "\n",
    "Then we compute $f(m)$ and check the sign, where $m=\\dfrac{a+b}{2}$ is the midpoint of $(a,b)$.\n",
    "\n",
    "If $f(a)f(m)<0$, repeat the process on $(a,m)$. If $f(m)f(b)<0$, repeat on $(m,b)$.\n",
    "\n",
    "We also have to tell the computer how many steps to take, so it knows when to stop!"
   ]
  },
  {
   "cell_type": "code",
   "execution_count": 7,
   "metadata": {
    "hidden": false,
    "slideshow": {
     "slide_type": "subslide"
    }
   },
   "outputs": [],
   "source": [
    "def bisection(f,a,b,N):\n",
    "    if f(a)*f(b) >= 0:\n",
    "        print(\"Bisection method fails.\")\n",
    "        return None\n",
    "    a_n = a\n",
    "    b_n = b\n",
    "    for n in range(1,N+1):\n",
    "        m_n = (a_n + b_n)/2\n",
    "        f_m_n = f(m_n)\n",
    "        if f(a_n)*f_m_n < 0:\n",
    "            a_n = a_n\n",
    "            b_n = m_n\n",
    "        elif f(b_n)*f_m_n < 0:\n",
    "            a_n = m_n\n",
    "            b_n = b_n\n",
    "        elif f_m_n == 0:\n",
    "            print(\"Found exact solution.\")\n",
    "            return m_n\n",
    "        else:\n",
    "            print(\"Bisection method fails.\")\n",
    "            return None\n",
    "    return (a_n + b_n)/2"
   ]
  },
  {
   "cell_type": "markdown",
   "metadata": {
    "hidden": false,
    "slideshow": {
     "slide_type": "subslide"
    }
   },
   "source": [
    "Let's define a function."
   ]
  },
  {
   "cell_type": "code",
   "execution_count": 11,
   "metadata": {
    "hidden": false,
    "slideshow": {
     "slide_type": "fragment"
    }
   },
   "outputs": [],
   "source": [
    "f = lambda x: x**3+x-1"
   ]
  },
  {
   "cell_type": "markdown",
   "metadata": {
    "hidden": false,
    "slideshow": {
     "slide_type": "fragment"
    }
   },
   "source": [
    "And now let's run the algorithm, with 10 iterations."
   ]
  },
  {
   "cell_type": "code",
   "execution_count": 3,
   "metadata": {
    "hidden": false,
    "scrolled": true,
    "slideshow": {
     "slide_type": "fragment"
    }
   },
   "outputs": [
    {
     "ename": "NameError",
     "evalue": "name 'bisection' is not defined",
     "output_type": "error",
     "traceback": [
      "\u001b[0;31m---------------------------------------------------------------------------\u001b[0m",
      "\u001b[0;31mNameError\u001b[0m                                 Traceback (most recent call last)",
      "\u001b[0;32m<ipython-input-3-924eae6da272>\u001b[0m in \u001b[0;36m<module>\u001b[0;34m\u001b[0m\n\u001b[0;32m----> 1\u001b[0;31m \u001b[0mbisection\u001b[0m\u001b[0;34m(\u001b[0m\u001b[0mf\u001b[0m\u001b[0;34m,\u001b[0m\u001b[0;36m0\u001b[0m\u001b[0;34m,\u001b[0m\u001b[0;36m1\u001b[0m\u001b[0;34m,\u001b[0m\u001b[0;36m10\u001b[0m\u001b[0;34m)\u001b[0m\u001b[0;34m\u001b[0m\u001b[0;34m\u001b[0m\u001b[0m\n\u001b[0m",
      "\u001b[0;31mNameError\u001b[0m: name 'bisection' is not defined"
     ]
    }
   ],
   "source": [
    "bisection(f,0,1,10)"
   ]
  },
  {
   "cell_type": "markdown",
   "metadata": {
    "hidden": false,
    "slideshow": {
     "slide_type": "slide"
    }
   },
   "source": [
    "Now, onward to [limits involving infinity!](infinity.ipynb)"
   ]
  }
 ],
 "metadata": {
  "celltoolbar": "Slideshow",
  "kernelspec": {
   "display_name": "Python 3",
   "language": "python",
   "name": "python3"
  },
  "language_info": {
   "codemirror_mode": {
    "name": "ipython",
    "version": 3
   },
   "file_extension": ".py",
   "mimetype": "text/x-python",
   "name": "python",
   "nbconvert_exporter": "python",
   "pygments_lexer": "ipython3",
   "version": "3.7.3"
  },
  "rise": {
   "center": false,
   "enable_chalkboard": true
  }
 },
 "nbformat": 4,
 "nbformat_minor": 2
}
